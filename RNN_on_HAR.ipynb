{
 "cells": [
  {
   "cell_type": "code",
   "execution_count": 3,
   "metadata": {
    "colab": {
     "base_uri": "https://localhost:8080/"
    },
    "id": "2eqrbBhfSk_F",
    "outputId": "c28caf7d-ad84-46c8-c6c1-d9369286674a"
   },
   "outputs": [
    {
     "ename": "ModuleNotFoundError",
     "evalue": "No module named 'google.colab'",
     "output_type": "error",
     "traceback": [
      "\u001b[0;31m---------------------------------------------------------------------------\u001b[0m",
      "\u001b[0;31mModuleNotFoundError\u001b[0m                       Traceback (most recent call last)",
      "Cell \u001b[0;32mIn[3], line 1\u001b[0m\n\u001b[0;32m----> 1\u001b[0m \u001b[38;5;28;01mfrom\u001b[39;00m \u001b[38;5;21;01mgoogle\u001b[39;00m\u001b[38;5;21;01m.\u001b[39;00m\u001b[38;5;21;01mcolab\u001b[39;00m \u001b[38;5;28;01mimport\u001b[39;00m drive\n\u001b[1;32m      2\u001b[0m drive\u001b[38;5;241m.\u001b[39mmount(\u001b[38;5;124m'\u001b[39m\u001b[38;5;124m/content/drive\u001b[39m\u001b[38;5;124m'\u001b[39m)\n",
      "\u001b[0;31mModuleNotFoundError\u001b[0m: No module named 'google.colab'"
     ]
    }
   ],
   "source": [
    "from google.colab import drive\n",
    "drive.mount('/content/drive')\n"
   ]
  },
  {
   "cell_type": "markdown",
   "metadata": {},
   "source": [
    "This file has the code for creating the RNN."
   ]
  },
  {
   "cell_type": "code",
   "execution_count": 21,
   "metadata": {
    "id": "WicWl5LvSr49"
   },
   "outputs": [],
   "source": [
    "import os\n",
    "\n",
    "# Folder path in Google Drive\n",
    "train_folder_path = './train/Inertial_Signals/'\n",
    "test_folder_path = './test/Inertial_Signals/'\n",
    "\n",
    "# File paths\n",
    "def return_filepath(train_or_test):\n",
    "    folder_path = f'./{train_or_test}/Inertial Signals/'\n",
    "    filepaths = [\n",
    "        os.path.join(folder_path, f\"body_acc_x_{train_or_test}.txt\"),\n",
    "        os.path.join(folder_path, f\"body_acc_y_{train_or_test}.txt\"),\n",
    "        os.path.join(folder_path, f\"body_acc_z_{train_or_test}.txt\"),\n",
    "        os.path.join(folder_path, f\"body_gyro_x_{train_or_test}.txt\"),\n",
    "        os.path.join(folder_path, f\"body_gyro_y_{train_or_test}.txt\"),\n",
    "        os.path.join(folder_path, f\"body_gyro_z_{train_or_test}.txt\"),\n",
    "        os.path.join(folder_path, f\"total_acc_x_{train_or_test}.txt\"),\n",
    "        os.path.join(folder_path, f\"total_acc_y_{train_or_test}.txt\"),\n",
    "        os.path.join(folder_path, f\"total_acc_z_{train_or_test}.txt\")\n",
    "    ]\n",
    "    return filepaths\n"
   ]
  },
  {
   "cell_type": "code",
   "execution_count": 22,
   "metadata": {
    "colab": {
     "base_uri": "https://localhost:8080/"
    },
    "id": "9wv2phM7Pn8x",
    "outputId": "41a4b027-a080-4a9e-8004-3665b9807c91"
   },
   "outputs": [
    {
     "name": "stdout",
     "output_type": "stream",
     "text": [
      "(7352, 128, 9)\n"
     ]
    }
   ],
   "source": [
    "import numpy as np\n",
    "\n",
    "# Function to load a single file\n",
    "def load_file(filepath):\n",
    "    return np.loadtxt(filepath)\n",
    "\n",
    "# Load all train signals\n",
    "train_signals = []\n",
    "for path in return_filepath('train'):\n",
    "    train_signals.append(load_file(path))\n",
    "\n",
    "# Stack signals along the last axis to create the \"features\" dimension\n",
    "X_train = np.stack(train_signals, axis=-1)  # Shape: (samples, timesteps, features)\n",
    "\n",
    "print(X_train.shape)  # Example: (7352, 128, 9)\n"
   ]
  },
  {
   "cell_type": "code",
   "execution_count": 24,
   "metadata": {
    "id": "6tMTx9zfTtLE"
   },
   "outputs": [],
   "source": [
    "# Load activity labels\n",
    "\n",
    "label_filepath = './train/y_train.txt'\n",
    "y_train = np.loadtxt(label_filepath)  # Shape: (7352,)\n"
   ]
  },
  {
   "cell_type": "code",
   "execution_count": 25,
   "metadata": {
    "id": "Cyvg48RiVHHw"
   },
   "outputs": [],
   "source": [
    "# Normalize along the time and sample dimensions\n",
    "X_train = (X_train - np.mean(X_train, axis=(0, 1))) / np.std(X_train, axis=(0, 1))\n"
   ]
  },
  {
   "cell_type": "code",
   "execution_count": 26,
   "metadata": {
    "id": "Dj7qyVGgVt6T"
   },
   "outputs": [],
   "source": [
    "# Adjust labels to be zero-based\n",
    "y_train = y_train.astype(int) - 1"
   ]
  },
  {
   "cell_type": "code",
   "execution_count": 27,
   "metadata": {},
   "outputs": [],
   "source": [
    "import numpy as np"
   ]
  },
  {
   "cell_type": "code",
   "execution_count": null,
   "metadata": {},
   "outputs": [],
   "source": [
    "# X_train = np.loadtxt(\"./train/X_train.txt\")\n",
    "# X_test = np.loadtxt(\"./test/X_test.txt\")\n",
    "# y_test = np.loadtxt(\"./test/y_test.txt\")\n",
    "# y_train = np.loadtxt(\"./train/y_train.txt\")"
   ]
  },
  {
   "cell_type": "code",
   "execution_count": null,
   "metadata": {},
   "outputs": [
    {
     "ename": "NameError",
     "evalue": "name 'train_signals' is not defined",
     "output_type": "error",
     "traceback": [
      "\u001b[0;31m---------------------------------------------------------------------------\u001b[0m",
      "\u001b[0;31mNameError\u001b[0m                                 Traceback (most recent call last)",
      "Cell \u001b[0;32mIn[14], line 2\u001b[0m\n\u001b[1;32m      1\u001b[0m y_train \u001b[38;5;241m=\u001b[39m y_train\u001b[38;5;241m.\u001b[39mastype(\u001b[38;5;28mint\u001b[39m) \u001b[38;5;241m-\u001b[39m \u001b[38;5;241m1\u001b[39m\n\u001b[0;32m----> 2\u001b[0m X_train \u001b[38;5;241m=\u001b[39m np\u001b[38;5;241m.\u001b[39mstack(\u001b[43mtrain_signals\u001b[49m, axis\u001b[38;5;241m=\u001b[39m\u001b[38;5;241m-\u001b[39m\u001b[38;5;241m1\u001b[39m)\n",
      "\u001b[0;31mNameError\u001b[0m: name 'train_signals' is not defined"
     ]
    }
   ],
   "source": [
    "# y_train = y_train.astype(int) - 1\n",
    "# X_train = np.stack(train_signals, axis=-1)"
   ]
  },
  {
   "cell_type": "code",
   "execution_count": 28,
   "metadata": {
    "colab": {
     "base_uri": "https://localhost:8080/"
    },
    "collapsed": true,
    "id": "b0M9uDxRVKcA",
    "outputId": "bb1b108c-1703-422d-8ac4-698d83b87581"
   },
   "outputs": [
    {
     "name": "stdout",
     "output_type": "stream",
     "text": [
      "Epoch 1/50\n"
     ]
    },
    {
     "name": "stderr",
     "output_type": "stream",
     "text": [
      "/Users/merjem/miniforge3/envs/pds/lib/python3.10/site-packages/keras/src/layers/rnn/rnn.py:204: UserWarning: Do not pass an `input_shape`/`input_dim` argument to a layer. When using Sequential models, prefer using an `Input(shape)` object as the first layer in the model instead.\n",
      "  super().__init__(**kwargs)\n"
     ]
    },
    {
     "name": "stdout",
     "output_type": "stream",
     "text": [
      "\u001b[1m92/92\u001b[0m \u001b[32m━━━━━━━━━━━━━━━━━━━━\u001b[0m\u001b[37m\u001b[0m \u001b[1m12s\u001b[0m 107ms/step - accuracy: 0.4020 - loss: 1.4515 - val_accuracy: 0.7417 - val_loss: 0.9370\n",
      "Epoch 2/50\n",
      "\u001b[1m92/92\u001b[0m \u001b[32m━━━━━━━━━━━━━━━━━━━━\u001b[0m\u001b[37m\u001b[0m \u001b[1m9s\u001b[0m 103ms/step - accuracy: 0.7330 - loss: 0.7627 - val_accuracy: 0.8606 - val_loss: 0.4831\n",
      "Epoch 3/50\n",
      "\u001b[1m92/92\u001b[0m \u001b[32m━━━━━━━━━━━━━━━━━━━━\u001b[0m\u001b[37m\u001b[0m \u001b[1m10s\u001b[0m 107ms/step - accuracy: 0.8645 - loss: 0.4228 - val_accuracy: 0.8906 - val_loss: 0.3436\n",
      "Epoch 4/50\n",
      "\u001b[1m92/92\u001b[0m \u001b[32m━━━━━━━━━━━━━━━━━━━━\u001b[0m\u001b[37m\u001b[0m \u001b[1m10s\u001b[0m 105ms/step - accuracy: 0.9086 - loss: 0.3150 - val_accuracy: 0.9001 - val_loss: 0.3943\n",
      "Epoch 5/50\n",
      "\u001b[1m92/92\u001b[0m \u001b[32m━━━━━━━━━━━━━━━━━━━━\u001b[0m\u001b[37m\u001b[0m \u001b[1m10s\u001b[0m 111ms/step - accuracy: 0.9238 - loss: 0.2523 - val_accuracy: 0.8980 - val_loss: 0.3622\n",
      "Epoch 6/50\n",
      "\u001b[1m92/92\u001b[0m \u001b[32m━━━━━━━━━━━━━━━━━━━━\u001b[0m\u001b[37m\u001b[0m \u001b[1m10s\u001b[0m 106ms/step - accuracy: 0.9516 - loss: 0.1715 - val_accuracy: 0.8912 - val_loss: 0.4613\n",
      "Epoch 7/50\n",
      "\u001b[1m92/92\u001b[0m \u001b[32m━━━━━━━━━━━━━━━━━━━━\u001b[0m\u001b[37m\u001b[0m \u001b[1m10s\u001b[0m 108ms/step - accuracy: 0.9571 - loss: 0.1451 - val_accuracy: 0.8953 - val_loss: 0.4399\n",
      "Epoch 8/50\n",
      "\u001b[1m92/92\u001b[0m \u001b[32m━━━━━━━━━━━━━━━━━━━━\u001b[0m\u001b[37m\u001b[0m \u001b[1m10s\u001b[0m 112ms/step - accuracy: 0.9609 - loss: 0.1211 - val_accuracy: 0.8973 - val_loss: 0.4371\n",
      "Epoch 9/50\n",
      "\u001b[1m92/92\u001b[0m \u001b[32m━━━━━━━━━━━━━━━━━━━━\u001b[0m\u001b[37m\u001b[0m \u001b[1m11s\u001b[0m 116ms/step - accuracy: 0.9538 - loss: 0.1264 - val_accuracy: 0.9028 - val_loss: 0.4657\n",
      "Epoch 10/50\n",
      "\u001b[1m92/92\u001b[0m \u001b[32m━━━━━━━━━━━━━━━━━━━━\u001b[0m\u001b[37m\u001b[0m \u001b[1m10s\u001b[0m 104ms/step - accuracy: 0.9531 - loss: 0.1285 - val_accuracy: 0.9184 - val_loss: 0.3424\n",
      "Epoch 11/50\n",
      "\u001b[1m92/92\u001b[0m \u001b[32m━━━━━━━━━━━━━━━━━━━━\u001b[0m\u001b[37m\u001b[0m \u001b[1m9s\u001b[0m 98ms/step - accuracy: 0.9546 - loss: 0.1167 - val_accuracy: 0.9035 - val_loss: 0.5125\n",
      "Epoch 12/50\n",
      "\u001b[1m92/92\u001b[0m \u001b[32m━━━━━━━━━━━━━━━━━━━━\u001b[0m\u001b[37m\u001b[0m \u001b[1m9s\u001b[0m 95ms/step - accuracy: 0.9567 - loss: 0.0973 - val_accuracy: 0.8681 - val_loss: 0.7326\n",
      "Epoch 13/50\n",
      "\u001b[1m92/92\u001b[0m \u001b[32m━━━━━━━━━━━━━━━━━━━━\u001b[0m\u001b[37m\u001b[0m \u001b[1m9s\u001b[0m 96ms/step - accuracy: 0.9560 - loss: 0.1222 - val_accuracy: 0.8892 - val_loss: 0.4874\n",
      "Epoch 14/50\n",
      "\u001b[1m92/92\u001b[0m \u001b[32m━━━━━━━━━━━━━━━━━━━━\u001b[0m\u001b[37m\u001b[0m \u001b[1m9s\u001b[0m 99ms/step - accuracy: 0.9537 - loss: 0.1322 - val_accuracy: 0.9035 - val_loss: 0.5164\n",
      "Epoch 15/50\n",
      "\u001b[1m92/92\u001b[0m \u001b[32m━━━━━━━━━━━━━━━━━━━━\u001b[0m\u001b[37m\u001b[0m \u001b[1m9s\u001b[0m 96ms/step - accuracy: 0.9505 - loss: 0.1080 - val_accuracy: 0.9041 - val_loss: 0.5081\n",
      "Epoch 16/50\n",
      "\u001b[1m92/92\u001b[0m \u001b[32m━━━━━━━━━━━━━━━━━━━━\u001b[0m\u001b[37m\u001b[0m \u001b[1m9s\u001b[0m 96ms/step - accuracy: 0.9536 - loss: 0.1112 - val_accuracy: 0.9089 - val_loss: 0.5176\n",
      "Epoch 17/50\n",
      "\u001b[1m92/92\u001b[0m \u001b[32m━━━━━━━━━━━━━━━━━━━━\u001b[0m\u001b[37m\u001b[0m \u001b[1m9s\u001b[0m 95ms/step - accuracy: 0.9621 - loss: 0.0865 - val_accuracy: 0.9028 - val_loss: 0.5016\n",
      "Epoch 18/50\n",
      "\u001b[1m92/92\u001b[0m \u001b[32m━━━━━━━━━━━━━━━━━━━━\u001b[0m\u001b[37m\u001b[0m \u001b[1m9s\u001b[0m 96ms/step - accuracy: 0.9597 - loss: 0.0900 - val_accuracy: 0.9035 - val_loss: 0.5602\n",
      "Epoch 19/50\n",
      "\u001b[1m92/92\u001b[0m \u001b[32m━━━━━━━━━━━━━━━━━━━━\u001b[0m\u001b[37m\u001b[0m \u001b[1m9s\u001b[0m 96ms/step - accuracy: 0.9548 - loss: 0.1036 - val_accuracy: 0.9096 - val_loss: 0.4928\n",
      "Epoch 20/50\n",
      "\u001b[1m92/92\u001b[0m \u001b[32m━━━━━━━━━━━━━━━━━━━━\u001b[0m\u001b[37m\u001b[0m \u001b[1m9s\u001b[0m 95ms/step - accuracy: 0.9575 - loss: 0.0899 - val_accuracy: 0.8980 - val_loss: 0.4772\n",
      "Epoch 21/50\n",
      "\u001b[1m92/92\u001b[0m \u001b[32m━━━━━━━━━━━━━━━━━━━━\u001b[0m\u001b[37m\u001b[0m \u001b[1m9s\u001b[0m 95ms/step - accuracy: 0.9625 - loss: 0.0841 - val_accuracy: 0.9089 - val_loss: 0.6569\n",
      "Epoch 22/50\n",
      "\u001b[1m92/92\u001b[0m \u001b[32m━━━━━━━━━━━━━━━━━━━━\u001b[0m\u001b[37m\u001b[0m \u001b[1m9s\u001b[0m 97ms/step - accuracy: 0.9554 - loss: 0.0846 - val_accuracy: 0.9089 - val_loss: 0.4083\n",
      "Epoch 23/50\n",
      "\u001b[1m92/92\u001b[0m \u001b[32m━━━━━━━━━━━━━━━━━━━━\u001b[0m\u001b[37m\u001b[0m \u001b[1m9s\u001b[0m 95ms/step - accuracy: 0.9588 - loss: 0.1155 - val_accuracy: 0.9041 - val_loss: 0.5457\n",
      "Epoch 24/50\n",
      "\u001b[1m92/92\u001b[0m \u001b[32m━━━━━━━━━━━━━━━━━━━━\u001b[0m\u001b[37m\u001b[0m \u001b[1m9s\u001b[0m 95ms/step - accuracy: 0.9553 - loss: 0.0889 - val_accuracy: 0.9123 - val_loss: 0.5607\n",
      "Epoch 25/50\n",
      "\u001b[1m92/92\u001b[0m \u001b[32m━━━━━━━━━━━━━━━━━━━━\u001b[0m\u001b[37m\u001b[0m \u001b[1m9s\u001b[0m 99ms/step - accuracy: 0.9604 - loss: 0.0836 - val_accuracy: 0.9109 - val_loss: 0.5934\n",
      "Epoch 26/50\n",
      "\u001b[1m92/92\u001b[0m \u001b[32m━━━━━━━━━━━━━━━━━━━━\u001b[0m\u001b[37m\u001b[0m \u001b[1m9s\u001b[0m 101ms/step - accuracy: 0.9620 - loss: 0.0712 - val_accuracy: 0.9273 - val_loss: 0.6769\n",
      "Epoch 27/50\n",
      "\u001b[1m92/92\u001b[0m \u001b[32m━━━━━━━━━━━━━━━━━━━━\u001b[0m\u001b[37m\u001b[0m \u001b[1m9s\u001b[0m 99ms/step - accuracy: 0.9541 - loss: 0.1072 - val_accuracy: 0.9028 - val_loss: 0.4576\n",
      "Epoch 28/50\n",
      "\u001b[1m92/92\u001b[0m \u001b[32m━━━━━━━━━━━━━━━━━━━━\u001b[0m\u001b[37m\u001b[0m \u001b[1m9s\u001b[0m 96ms/step - accuracy: 0.9633 - loss: 0.1000 - val_accuracy: 0.8973 - val_loss: 0.4823\n",
      "Epoch 29/50\n",
      "\u001b[1m92/92\u001b[0m \u001b[32m━━━━━━━━━━━━━━━━━━━━\u001b[0m\u001b[37m\u001b[0m \u001b[1m9s\u001b[0m 97ms/step - accuracy: 0.9570 - loss: 0.1049 - val_accuracy: 0.9001 - val_loss: 0.5158\n",
      "Epoch 30/50\n",
      "\u001b[1m92/92\u001b[0m \u001b[32m━━━━━━━━━━━━━━━━━━━━\u001b[0m\u001b[37m\u001b[0m \u001b[1m8s\u001b[0m 92ms/step - accuracy: 0.9582 - loss: 0.1212 - val_accuracy: 0.8960 - val_loss: 0.4689\n",
      "Epoch 31/50\n",
      "\u001b[1m92/92\u001b[0m \u001b[32m━━━━━━━━━━━━━━━━━━━━\u001b[0m\u001b[37m\u001b[0m \u001b[1m9s\u001b[0m 94ms/step - accuracy: 0.9539 - loss: 0.1327 - val_accuracy: 0.8933 - val_loss: 0.5553\n",
      "Epoch 32/50\n",
      "\u001b[1m92/92\u001b[0m \u001b[32m━━━━━━━━━━━━━━━━━━━━\u001b[0m\u001b[37m\u001b[0m \u001b[1m9s\u001b[0m 96ms/step - accuracy: 0.9516 - loss: 0.1135 - val_accuracy: 0.8994 - val_loss: 0.5526\n",
      "Epoch 33/50\n",
      "\u001b[1m92/92\u001b[0m \u001b[32m━━━━━━━━━━━━━━━━━━━━\u001b[0m\u001b[37m\u001b[0m \u001b[1m9s\u001b[0m 96ms/step - accuracy: 0.9582 - loss: 0.0827 - val_accuracy: 0.8973 - val_loss: 0.5450\n",
      "Epoch 34/50\n",
      "\u001b[1m92/92\u001b[0m \u001b[32m━━━━━━━━━━━━━━━━━━━━\u001b[0m\u001b[37m\u001b[0m \u001b[1m9s\u001b[0m 97ms/step - accuracy: 0.9554 - loss: 0.0835 - val_accuracy: 0.9103 - val_loss: 0.5631\n",
      "Epoch 35/50\n",
      "\u001b[1m92/92\u001b[0m \u001b[32m━━━━━━━━━━━━━━━━━━━━\u001b[0m\u001b[37m\u001b[0m \u001b[1m9s\u001b[0m 97ms/step - accuracy: 0.9643 - loss: 0.0782 - val_accuracy: 0.9109 - val_loss: 0.5980\n",
      "Epoch 36/50\n",
      "\u001b[1m92/92\u001b[0m \u001b[32m━━━━━━━━━━━━━━━━━━━━\u001b[0m\u001b[37m\u001b[0m \u001b[1m9s\u001b[0m 96ms/step - accuracy: 0.9646 - loss: 0.0741 - val_accuracy: 0.8973 - val_loss: 0.6901\n",
      "Epoch 37/50\n",
      "\u001b[1m92/92\u001b[0m \u001b[32m━━━━━━━━━━━━━━━━━━━━\u001b[0m\u001b[37m\u001b[0m \u001b[1m9s\u001b[0m 96ms/step - accuracy: 0.9519 - loss: 0.0847 - val_accuracy: 0.8953 - val_loss: 0.5918\n",
      "Epoch 38/50\n",
      "\u001b[1m92/92\u001b[0m \u001b[32m━━━━━━━━━━━━━━━━━━━━\u001b[0m\u001b[37m\u001b[0m \u001b[1m9s\u001b[0m 96ms/step - accuracy: 0.9452 - loss: 0.1616 - val_accuracy: 0.9225 - val_loss: 0.4384\n",
      "Epoch 39/50\n",
      "\u001b[1m92/92\u001b[0m \u001b[32m━━━━━━━━━━━━━━━━━━━━\u001b[0m\u001b[37m\u001b[0m \u001b[1m9s\u001b[0m 99ms/step - accuracy: 0.9568 - loss: 0.1108 - val_accuracy: 0.9218 - val_loss: 0.4602\n",
      "Epoch 40/50\n",
      "\u001b[1m92/92\u001b[0m \u001b[32m━━━━━━━━━━━━━━━━━━━━\u001b[0m\u001b[37m\u001b[0m \u001b[1m9s\u001b[0m 97ms/step - accuracy: 0.9571 - loss: 0.0970 - val_accuracy: 0.9184 - val_loss: 0.4730\n",
      "Epoch 41/50\n",
      "\u001b[1m92/92\u001b[0m \u001b[32m━━━━━━━━━━━━━━━━━━━━\u001b[0m\u001b[37m\u001b[0m \u001b[1m9s\u001b[0m 99ms/step - accuracy: 0.9258 - loss: 0.1823 - val_accuracy: 0.8994 - val_loss: 0.5029\n",
      "Epoch 42/50\n",
      "\u001b[1m92/92\u001b[0m \u001b[32m━━━━━━━━━━━━━━━━━━━━\u001b[0m\u001b[37m\u001b[0m \u001b[1m9s\u001b[0m 99ms/step - accuracy: 0.9611 - loss: 0.0882 - val_accuracy: 0.9205 - val_loss: 0.5786\n",
      "Epoch 43/50\n",
      "\u001b[1m92/92\u001b[0m \u001b[32m━━━━━━━━━━━━━━━━━━━━\u001b[0m\u001b[37m\u001b[0m \u001b[1m9s\u001b[0m 97ms/step - accuracy: 0.9546 - loss: 0.0953 - val_accuracy: 0.9225 - val_loss: 0.5881\n",
      "Epoch 44/50\n",
      "\u001b[1m92/92\u001b[0m \u001b[32m━━━━━━━━━━━━━━━━━━━━\u001b[0m\u001b[37m\u001b[0m \u001b[1m9s\u001b[0m 96ms/step - accuracy: 0.9583 - loss: 0.0759 - val_accuracy: 0.9286 - val_loss: 0.4152\n",
      "Epoch 45/50\n",
      "\u001b[1m92/92\u001b[0m \u001b[32m━━━━━━━━━━━━━━━━━━━━\u001b[0m\u001b[37m\u001b[0m \u001b[1m9s\u001b[0m 94ms/step - accuracy: 0.9449 - loss: 0.1089 - val_accuracy: 0.9293 - val_loss: 0.3841\n",
      "Epoch 46/50\n",
      "\u001b[1m92/92\u001b[0m \u001b[32m━━━━━━━━━━━━━━━━━━━━\u001b[0m\u001b[37m\u001b[0m \u001b[1m9s\u001b[0m 101ms/step - accuracy: 0.9521 - loss: 0.1030 - val_accuracy: 0.9347 - val_loss: 0.3007\n",
      "Epoch 47/50\n",
      "\u001b[1m92/92\u001b[0m \u001b[32m━━━━━━━━━━━━━━━━━━━━\u001b[0m\u001b[37m\u001b[0m \u001b[1m9s\u001b[0m 97ms/step - accuracy: 0.9542 - loss: 0.1047 - val_accuracy: 0.9334 - val_loss: 0.2802\n",
      "Epoch 48/50\n",
      "\u001b[1m92/92\u001b[0m \u001b[32m━━━━━━━━━━━━━━━━━━━━\u001b[0m\u001b[37m\u001b[0m \u001b[1m9s\u001b[0m 101ms/step - accuracy: 0.9633 - loss: 0.0806 - val_accuracy: 0.9381 - val_loss: 0.2617\n",
      "Epoch 49/50\n",
      "\u001b[1m92/92\u001b[0m \u001b[32m━━━━━━━━━━━━━━━━━━━━\u001b[0m\u001b[37m\u001b[0m \u001b[1m9s\u001b[0m 100ms/step - accuracy: 0.9612 - loss: 0.0957 - val_accuracy: 0.9381 - val_loss: 0.1832\n",
      "Epoch 50/50\n",
      "\u001b[1m92/92\u001b[0m \u001b[32m━━━━━━━━━━━━━━━━━━━━\u001b[0m\u001b[37m\u001b[0m \u001b[1m9s\u001b[0m 96ms/step - accuracy: 0.9629 - loss: 0.0813 - val_accuracy: 0.9130 - val_loss: 0.2355\n"
     ]
    }
   ],
   "source": [
    "from tensorflow.keras.models import Sequential\n",
    "from tensorflow.keras.layers import LSTM, Dense, Dropout\n",
    "\n",
    "# Define LSTM model\n",
    "model = Sequential([\n",
    "    LSTM(64, return_sequences=True, input_shape=(X_train.shape[1], X_train.shape[2])),\n",
    "    Dropout(0.5),\n",
    "    LSTM(32, return_sequences=False),\n",
    "    Dropout(0.5),\n",
    "    Dense(32, activation='relu'),\n",
    "    Dense(6, activation='softmax')  # 6 activity classes\n",
    "])\n",
    "\n",
    "# Compile the model\n",
    "model.compile(optimizer='adam',\n",
    "              loss='sparse_categorical_crossentropy',\n",
    "              metrics=['accuracy'])\n",
    "\n",
    "# Train the model\n",
    "history = model.fit(X_train, y_train, validation_split=0.2, epochs=50, batch_size=64)\n"
   ]
  },
  {
   "cell_type": "code",
   "execution_count": null,
   "metadata": {
    "id": "ad_OtySOZlpu"
   },
   "outputs": [],
   "source": []
  },
  {
   "cell_type": "code",
   "execution_count": null,
   "metadata": {
    "id": "vqWPNK76BSN3"
   },
   "outputs": [],
   "source": [
    "# # Folder path in Google Drive\n",
    "# test_folder_path = '/content/drive/MyDrive/Inertial_Signals_test/'\n",
    "\n",
    "# # File paths\n",
    "# test_filepaths = [\n",
    "#     os.path.join(test_folder_path, \"body_acc_x_test.txt\"),\n",
    "#     os.path.join(test_folder_path, \"body_acc_y_test.txt\"),\n",
    "#     os.path.join(test_folder_path, \"body_acc_z_test.txt\"),\n",
    "#     os.path.join(test_folder_path, \"body_gyro_x_test.txt\"),\n",
    "#     os.path.join(test_folder_path, \"body_gyro_y_test.txt\"),\n",
    "#     os.path.join(test_folder_path, \"body_gyro_z_test.txt\"),\n",
    "#     os.path.join(test_folder_path, \"total_acc_x_test.txt\"),\n",
    "#     os.path.join(test_folder_path, \"total_acc_y_test.txt\"),\n",
    "#     os.path.join(test_folder_path, \"total_acc_z_test.txt\")\n",
    "# ]\n"
   ]
  },
  {
   "cell_type": "code",
   "execution_count": 29,
   "metadata": {
    "colab": {
     "base_uri": "https://localhost:8080/"
    },
    "id": "jCEFAR-sCj39",
    "outputId": "d04ab646-1bc0-4df9-eba7-c131aa6cc832"
   },
   "outputs": [
    {
     "name": "stdout",
     "output_type": "stream",
     "text": [
      "(2947, 128, 9)\n"
     ]
    }
   ],
   "source": [
    "# Function to load a single file\n",
    "def load_file(filepath):\n",
    "    return np.loadtxt(filepath)\n",
    "\n",
    "# Load all test signals\n",
    "test_signals = []\n",
    "for path in return_filepath('test'):\n",
    "    test_signals.append(load_file(path))\n",
    "\n",
    "# Stack signals along the last axis to create the \"features\" dimension\n",
    "X_test = np.stack(test_signals, axis=-1)  # Shape: (samples, timesteps, features)\n",
    "\n",
    "print(X_test.shape)\n"
   ]
  },
  {
   "cell_type": "code",
   "execution_count": 30,
   "metadata": {
    "id": "b7r2iyYUDQjw"
   },
   "outputs": [],
   "source": [
    "# Load activity labels\n",
    "test_label_filepath = './test/y_test.txt'\n",
    "y_test = np.loadtxt(test_label_filepath)  # Shape: (7352,)\n"
   ]
  },
  {
   "cell_type": "code",
   "execution_count": 31,
   "metadata": {
    "id": "uN6WqH5WD151"
   },
   "outputs": [],
   "source": [
    "# Normalize along the time and sample dimensions for X_test\n",
    "X_test = (X_test - np.mean(X_test, axis=(0, 1))) / np.std(X_test, axis=(0, 1))\n"
   ]
  },
  {
   "cell_type": "code",
   "execution_count": 32,
   "metadata": {
    "id": "Q9j240OKEAG1"
   },
   "outputs": [],
   "source": [
    "# Adjust labels to be zero-based\n",
    "y_test = y_test.astype(int) - 1"
   ]
  },
  {
   "cell_type": "code",
   "execution_count": 33,
   "metadata": {
    "colab": {
     "base_uri": "https://localhost:8080/"
    },
    "id": "wzdFJbQBErID",
    "outputId": "deaf3fcf-9d6b-4252-a3ea-7115db742082"
   },
   "outputs": [
    {
     "name": "stdout",
     "output_type": "stream",
     "text": [
      "\u001b[1m93/93\u001b[0m \u001b[32m━━━━━━━━━━━━━━━━━━━━\u001b[0m\u001b[37m\u001b[0m \u001b[1m1s\u001b[0m 14ms/step - accuracy: 0.8859 - loss: 0.6350\n",
      "Test Accuracy: 0.92\n"
     ]
    }
   ],
   "source": [
    "# Evaluate the model on the test data\n",
    "test_loss, test_accuracy = model.evaluate(X_test, y_test)\n",
    "print(f\"Test Accuracy: {test_accuracy:.2f}\")\n"
   ]
  },
  {
   "cell_type": "code",
   "execution_count": 34,
   "metadata": {
    "colab": {
     "base_uri": "https://localhost:8080/"
    },
    "id": "--YmOUA5Q8ml",
    "outputId": "2a291813-7c5d-4ea2-f223-48a6f4a38f6c"
   },
   "outputs": [
    {
     "name": "stdout",
     "output_type": "stream",
     "text": [
      "\u001b[1m93/93\u001b[0m \u001b[32m━━━━━━━━━━━━━━━━━━━━\u001b[0m\u001b[37m\u001b[0m \u001b[1m2s\u001b[0m 16ms/step\n"
     ]
    }
   ],
   "source": [
    "# Get raw predictions (logits or probabilities)\n",
    "predictions = model.predict(X_test)\n",
    "\n",
    "# Convert predictions to class labels\n",
    "predicted_labels = np.argmax(predictions, axis=1)\n"
   ]
  },
  {
   "cell_type": "code",
   "execution_count": null,
   "metadata": {},
   "outputs": [],
   "source": [
    "from sklearn import metrics\n",
    "import matplotlib.pyplot as plt"
   ]
  },
  {
   "cell_type": "code",
   "execution_count": 35,
   "metadata": {
    "colab": {
     "base_uri": "https://localhost:8080/"
    },
    "id": "NX87-15DEuk_",
    "outputId": "4a93eaa3-907e-4e10-c4ff-2619fdee505f"
   },
   "outputs": [
    {
     "name": "stdout",
     "output_type": "stream",
     "text": [
      "F1 Score: 0.92\n",
      "Confusion Matrix:\n",
      "[[461   2  33   0   0   0]\n",
      " [  0 445  26   0   0   0]\n",
      " [  0   0 420   0   0   0]\n",
      " [  1  25   0 411  54   0]\n",
      " [  0   0   0  68 464   0]\n",
      " [  0  23   0   0   0 514]]\n"
     ]
    }
   ],
   "source": [
    "\n",
    "# Compute F1 score\n",
    "f1 = metrics.f1_score(y_test, predicted_labels, average='weighted')\n",
    "print(f\"F1 Score: {f1:.2f}\")\n",
    "\n",
    "# Confusion matrix\n",
    "cm = metrics.confusion_matrix(y_test, predicted_labels)\n",
    "print(\"Confusion Matrix:\")\n",
    "print(cm)\n"
   ]
  },
  {
   "cell_type": "code",
   "execution_count": 38,
   "metadata": {},
   "outputs": [
    {
     "data": {
      "image/png": "[encoded data removed]",
      "text/plain": [
       "<Figure size 640x480 with 2 Axes>"
      ]
     },
     "metadata": {},
     "output_type": "display_data"
    }
   ],
   "source": [
    "cm_display = metrics.ConfusionMatrixDisplay(confusion_matrix = cm)\n",
    "cm_display.plot(cmap='plasma')\n",
    "plt.xlabel(\"Predicted Values\")\n",
    "plt.ylabel(\"Actual Values Returned by Model\")\n",
    "plt.title(\"Confusion Matrix for RNN\")\n",
    "# plt.legend(title='Number of matches')\n",
    "plt.show()"
   ]
  }
 ],
 "metadata": {
  "colab": {
   "gpuType": "T4",
   "provenance": []
  },
  "kernelspec": {
   "display_name": "pds",
   "language": "python",
   "name": "python3"
  },
  "language_info": {
   "codemirror_mode": {
    "name": "ipython",
    "version": 3
   },
   "file_extension": ".py",
   "mimetype": "text/x-python",
   "name": "python",
   "nbconvert_exporter": "python",
   "pygments_lexer": "ipython3",
   "version": "3.10.14"
  }
 },
 "nbformat": 4,
 "nbformat_minor": 0
}
